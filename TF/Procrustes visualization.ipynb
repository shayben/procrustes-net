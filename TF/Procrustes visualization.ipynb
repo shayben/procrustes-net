{
 "cells": [
  {
   "cell_type": "code",
   "execution_count": null,
   "metadata": {},
   "outputs": [],
   "source": [
    "import tensorflow as tf\n",
    "import matplotlib.pyplot as plt\n",
    "import numpy as np\n",
    "from scipy import linalg as la\n",
    "import scipy.cluster.hierarchy as hier\n",
    "\n",
    "from sklearn.manifold import TSNE\n",
    "from collections import Counter\n",
    "import plotly\n",
    "import plotly.plotly as py\n",
    "import plotly.graph_objs as go\n",
    "from plotly.offline import download_plotlyjs, init_notebook_mode, plot, iplot\n",
    "init_notebook_mode(connected=True)\n",
    "\n",
    "from tensorflow.examples.tutorials.mnist import input_data\n",
    "mnist = input_data.read_data_sets('MNIST_data', one_hot=True)\n"
   ]
  },
  {
   "cell_type": "code",
   "execution_count": null,
   "metadata": {},
   "outputs": [],
   "source": [
    "sess = tf.InteractiveSession()\n",
    "x = tf.placeholder(tf.float32, shape=[None, 784])\n",
    "y_ = tf.placeholder(tf.float32, shape=[None, 10])\n",
    "W = tf.Variable(tf.zeros([784,10]))\n",
    "b = tf.Variable(tf.zeros([10]))\n",
    "sess.run(tf.global_variables_initializer())\n",
    "y = tf.matmul(x,W) + b\n",
    "cross_entropy = tf.reduce_mean(tf.nn.softmax_cross_entropy_with_logits(labels=y_, logits=y))\n",
    "train_step = tf.train.GradientDescentOptimizer(0.5).minimize(cross_entropy)\n",
    "for _ in range(1000):\n",
    "  batch = mnist.train.next_batch(100)\n",
    "  train_step.run(feed_dict={x: batch[0], y_: batch[1]})\n",
    "correct_prediction = tf.equal(tf.argmax(y,1), tf.argmax(y_,1))\n",
    "accuracy = tf.reduce_mean(tf.cast(correct_prediction, tf.float32))\n",
    "print(accuracy.eval(feed_dict={x: mnist.test.images, y_: mnist.test.labels}))"
   ]
  },
  {
   "cell_type": "code",
   "execution_count": null,
   "metadata": {},
   "outputs": [],
   "source": [
    "fig = plt.figure(figsize=(20,20)) \n",
    "imshape = (28,28)\n",
    "ncols=12\n",
    "nrows=1\n",
    "for j in range(nrows):\n",
    "    for i in range(ncols):\n",
    "        imid = j*ncols+i\n",
    "        imdata = np.reshape(batch[0][imid,:], imshape)\n",
    "        plt.subplot(nrows,ncols,imid+1)\n",
    "        plt.imshow(imdata, cmap='gray')\n",
    "\n",
    "print('Batch samples:')\n",
    "plt.show()"
   ]
  },
  {
   "cell_type": "markdown",
   "metadata": {},
   "source": [
    "# Procrustes on image as a set of vectors"
   ]
  },
  {
   "cell_type": "code",
   "execution_count": null,
   "metadata": {},
   "outputs": [],
   "source": [
    "imid = 2\n",
    "imid2= 5\n",
    "imshape = (28,28)\n",
    "imdata = np.reshape(batch[0][imid,:], imshape)\n",
    "imlabel = np.argmax(batch[1][imid,:])\n",
    "fig = plt.figure(figsize=(9,9)) \n",
    "#fig.suptitle(str(imlabel))\n",
    "\n",
    "ax = plt.subplot(1,3,1)\n",
    "ax.set_title('input')\n",
    "plt.imshow(imdata, cmap='gray')\n",
    "ax = plt.subplot(1,3,2)\n",
    "ax.set_title('target')\n",
    "#rand_dest = np.random.rand(imshape[0], imshape[1])\n",
    "rand_dest = np.reshape(batch[0][imid2,:], imshape)\n",
    "plt.imshow(rand_dest, cmap='gray')\n",
    "ax = plt.subplot(1,3,3)\n",
    "ax.set_title('procrustes rotation of input to target')\n",
    "R = la.orthogonal_procrustes(imdata, rand_dest)\n",
    "normR = la.norm(R[0],'fro')\n",
    "plt.imshow(np.matmul(imdata, R[0]), cmap='gray')\n",
    "\n",
    "plt.show()"
   ]
  },
  {
   "cell_type": "markdown",
   "metadata": {},
   "source": [
    "# Procrustes on vectorized image"
   ]
  },
  {
   "cell_type": "code",
   "execution_count": null,
   "metadata": {
    "collapsed": true
   },
   "outputs": [],
   "source": [
    "def vec_procrustes(v1, v2):\n",
    "    w1 = np.vstack((v1.flatten(), [0]*784))\n",
    "    w2 = np.vstack((v2.flatten(), [0]*784))\n",
    "    R = la.orthogonal_procrustes(w1, w2)\n",
    "    return R"
   ]
  },
  {
   "cell_type": "code",
   "execution_count": null,
   "metadata": {},
   "outputs": [],
   "source": [
    "imid = 0\n",
    "imshape = (28,28)\n",
    "imdata = np.reshape(batch[0][imid,:], imshape)\n",
    "imlabel = np.argmax(batch[1][imid,:])\n",
    "fig = plt.figure(figsize=(9,9)) \n",
    "#fig.suptitle(str(imlabel))\n",
    "\n",
    "ax = plt.subplot(1,4,1)\n",
    "ax.set_title('input')\n",
    "plt.imshow(imdata, cmap='gray')\n",
    "ax = plt.subplot(1,4,2)\n",
    "ax.set_title('target')\n",
    "#rand_dest = np.random.rand(imshape[0], imshape[1])\n",
    "rand_dest = np.reshape(batch[0][1,:], imshape)\n",
    "plt.imshow(rand_dest, cmap='gray')\n",
    "ax = plt.subplot(1,4,3)\n",
    "ax.set_title('full rotation')\n",
    "R = vec_procrustes(imdata.flatten(), rand_dest.flatten())\n",
    "normR = la.norm(R[0],'fro')\n",
    "plt.imshow(np.reshape(np.matmul(imdata.flatten(), R[0]), imshape), cmap='gray')\n",
    "ax = plt.subplot(1,4,4)\n",
    "ax.set_title('partial rotation')\n",
    "plt.imshow(np.reshape(np.matmul(imdata.flatten(), R[0]/(10000*normR)), imshape), cmap='gray')\n",
    "\n",
    "plt.show()"
   ]
  },
  {
   "cell_type": "markdown",
   "metadata": {},
   "source": [
    "As we can see this is too ideal."
   ]
  },
  {
   "cell_type": "markdown",
   "metadata": {},
   "source": [
    "# MNIST procrustes clusters"
   ]
  },
  {
   "cell_type": "code",
   "execution_count": null,
   "metadata": {},
   "outputs": [],
   "source": [
    "D = np.empty([len(batch[0]),len(batch[0])])\n",
    "for i in range(len(batch[0])):\n",
    "    im1 = np.reshape(batch[0][i,:], imshape)\n",
    "    for j in range(len(batch[0])):\n",
    "        im2 = np.reshape(batch[0][j,:], imshape)\n",
    "        R = la.orthogonal_procrustes(im1, im2)\n",
    "        im1fit = np.matmul(im1, R[0])\n",
    "        D[i,j] = la.norm(im1fit-im2, 'fro')\n",
    "print('Done computing pairwise procrustes distance')        "
   ]
  },
  {
   "cell_type": "code",
   "execution_count": null,
   "metadata": {},
   "outputs": [],
   "source": [
    "Z = hier.linkage(D, \"average\")\n",
    "DG=hier.dendrogram(Z, orientation='right')\n",
    "index = DG['leaves']\n",
    "sD = D[index,:]\n",
    "sD = sD[:,index]\n",
    "fig = plt.figure()\n",
    "plt.imshow(sD)\n",
    "plt.axis('off')\n",
    "plt.show()"
   ]
  },
  {
   "cell_type": "code",
   "execution_count": null,
   "metadata": {},
   "outputs": [],
   "source": [
    "clusts=hier.fcluster(Z, 10, criterion=\"maxclust\")\n",
    "sizes=[len([idx for idx,c in enumerate(clusts) if c == i]) for i in range(1,11)]\n",
    "\n",
    "samples_per_clust=4\n",
    "tclusts=[cid+1 for cid,csize in enumerate(sizes) if csize>samples_per_clust]\n",
    "fig = plt.figure()\n",
    "tcid=-1\n",
    "for cid in tclusts:\n",
    "    tcid+=1\n",
    "    samples = [idx for idx,c in enumerate(clusts) if c == cid]\n",
    "    for sampleid in range(samples_per_clust):\n",
    "        imid0=samples[0]\n",
    "        imid=samples[sampleid+1]\n",
    "        fig.add_subplot(len(tclusts),samples_per_clust,tcid*samples_per_clust + sampleid+1)\n",
    "        #plt.title(str(imid))\n",
    "        plt.imshow(np.reshape(batch[0][imid,:], imshape))\n",
    "        plt.axis('off')\n",
    "plt.show()"
   ]
  },
  {
   "cell_type": "code",
   "execution_count": null,
   "metadata": {},
   "outputs": [],
   "source": [
    "init_notebook_mode(connected=False)\n",
    "model = TSNE(n_components=2, random_state=0, verbose=1, n_iter=10000, perplexity=8, metric='precomputed')\n",
    "Y = model.fit_transform(D)\n",
    "tY = Y.transpose()\n",
    "\n",
    "labels = np.argmax(batch[1],axis=1)\n",
    "label_counter = Counter(labels)\n",
    "traces = []\n",
    "for k in label_counter.keys():\n",
    "    trace = go.Scatter(\n",
    "        x=tY[0][labels == k],\n",
    "        y=tY[1][labels == k],\n",
    "        name=str(k),\n",
    "        text=str(k),\n",
    "        marker=dict(size=10,\n",
    "                    color=k,\n",
    "                    colorscale='Viridis'),\n",
    "        mode='markers',\n",
    "    )\n",
    "    traces.append(trace)\n",
    "\n",
    "layout = go.Layout(hovermode='closest')\n",
    "\n",
    "fig = go.Figure(data=traces, layout=layout)\n",
    "plotly.offline.iplot(fig, filename='jupyter/tsne')\n"
   ]
  },
  {
   "cell_type": "code",
   "execution_count": 127,
   "metadata": {
    "collapsed": true
   },
   "outputs": [
    {
     "data": {
      "text/plain": [
       "[{'marker': {'color': 0, 'colorscale': 'Viridis', 'size': 10},\n",
       "  'mode': 'markers',\n",
       "  'name': '0',\n",
       "  'text': '0',\n",
       "  'type': 'scatter',\n",
       "  'x': array([ 110.94037026,  105.93727534,  -34.27380897,    2.77196804,\n",
       "           51.81325675,  100.71843206]),\n",
       "  'y': array([ 29.04610036,   9.16433949, -11.94727277, -27.13717048,\n",
       "          52.73696481,   2.03713836])},\n",
       " {'marker': {'color': 1, 'colorscale': 'Viridis', 'size': 10},\n",
       "  'mode': 'markers',\n",
       "  'name': '1',\n",
       "  'text': '1',\n",
       "  'type': 'scatter',\n",
       "  'x': array([-75.90864145, -29.95021533,  -2.85744427,   6.95619   ,\n",
       "         -48.35807533, -82.81192246, -47.15320259,  -0.34858212]),\n",
       "  'y': array([ -55.31248079,  104.49703375,   28.11989417,  -72.92693666,\n",
       "          -84.46477695,  -45.44396999,  101.93288579, -104.46254296])},\n",
       " {'marker': {'color': 2, 'colorscale': 'Viridis', 'size': 10},\n",
       "  'mode': 'markers',\n",
       "  'name': '2',\n",
       "  'text': '2',\n",
       "  'type': 'scatter',\n",
       "  'x': array([ 57.7864092 , -36.18104249,  -6.12286558,  43.27978502,\n",
       "         -11.88177935, -32.23729723,  82.40167746,  26.02616633,\n",
       "         -22.82355893,   1.55282123, -18.26365826,  55.69848194]),\n",
       "  'y': array([  31.4664113 ,   43.48093795, -160.88698092,   17.91409461,\n",
       "         -278.36609319,   50.79382453,   71.84609436,  -21.81915107,\n",
       "         -142.30460679,  108.44783187,  -91.92924809,  201.71425454])},\n",
       " {'marker': {'color': 3, 'colorscale': 'Viridis', 'size': 10},\n",
       "  'mode': 'markers',\n",
       "  'name': '3',\n",
       "  'text': '3',\n",
       "  'type': 'scatter',\n",
       "  'x': array([ 83.61169308, -40.19379717, -34.49252899,  83.3477222 ,\n",
       "          64.18852234,  35.69065271,  78.07152326, -52.6097321 ,\n",
       "         -13.03897032,  23.00357252,  57.11513249]),\n",
       "  'y': array([ -16.71098385,  129.04010904, -102.60939865,  -80.28433311,\n",
       "          -62.4861775 , -103.46312475,   16.48869409,   -7.82784035,\n",
       "           10.30175083,    7.54439891, -105.03433429])},\n",
       " {'marker': {'color': 4, 'colorscale': 'Viridis', 'size': 10},\n",
       "  'mode': 'markers',\n",
       "  'name': '4',\n",
       "  'text': '4',\n",
       "  'type': 'scatter',\n",
       "  'x': array([ -64.02743828,   24.88073708,   16.88283873,   62.86877108,\n",
       "            1.57409235,   -3.94623775,  -76.99337693,  -83.76378505,\n",
       "          -88.44480612,  105.26190008,  -34.2962472 ,  -97.79190775,\n",
       "           25.37142828]),\n",
       "  'y': array([  28.95435695,   61.45402001,   39.41522935,    2.6935324 ,\n",
       "           57.82783226,   50.8158864 ,   19.88581065,   49.89972935,\n",
       "           21.51391899,  131.43758256,  -27.75234567,   20.95259098,\n",
       "           39.18622805])},\n",
       " {'marker': {'color': 5, 'colorscale': 'Viridis', 'size': 10},\n",
       "  'mode': 'markers',\n",
       "  'name': '5',\n",
       "  'text': '5',\n",
       "  'type': 'scatter',\n",
       "  'x': array([ 48.88126913,  59.0907771 , -50.93683815, -66.79414643,\n",
       "          19.48223862,   2.45651126, -13.47330851,  41.45708973,\n",
       "         -26.09094014,  55.81998106]),\n",
       "  'y': array([ -66.24207667,   94.42970861,  -51.25275201,  -34.14967965,\n",
       "           16.55212262,    5.68883846,  -26.15884269,   76.57897269,\n",
       "         -115.66698635,  -25.14246554])},\n",
       " {'marker': {'color': 6, 'colorscale': 'Viridis', 'size': 10},\n",
       "  'mode': 'markers',\n",
       "  'name': '6',\n",
       "  'text': '6',\n",
       "  'type': 'scatter',\n",
       "  'x': array([ -5.16928131,  38.30737838, -14.33720505,  27.13178238,\n",
       "         -55.29294671,  11.17403114, -16.58342691,  34.69085457,\n",
       "          28.50852717, -25.09006223, -54.54892149,  30.10556023]),\n",
       "  'y': array([-49.10690394, -37.8409637 , -50.90254207, -49.83518264,\n",
       "         -29.97801114, -49.00175987, -61.54842682, -30.07058748,\n",
       "          -4.12691518, -48.95583343, -17.4943367 , -57.77151887])},\n",
       " {'marker': {'color': 7, 'colorscale': 'Viridis', 'size': 10},\n",
       "  'mode': 'markers',\n",
       "  'name': '7',\n",
       "  'text': '7',\n",
       "  'type': 'scatter',\n",
       "  'x': array([-113.70845077,    3.058481  ,  -11.64646969,  -41.13675513,\n",
       "          -57.47723793,  -34.38471137,  -38.34231812]),\n",
       "  'y': array([  3.44139764, -11.2165617 ,  -7.98354148, -67.29760311,\n",
       "          49.14349614,  14.59791394,  70.07680103])},\n",
       " {'marker': {'color': 8, 'colorscale': 'Viridis', 'size': 10},\n",
       "  'mode': 'markers',\n",
       "  'name': '8',\n",
       "  'text': '8',\n",
       "  'type': 'scatter',\n",
       "  'x': array([-22.99090956,  19.04829282,  42.08452069, -76.8100415 ,\n",
       "          86.74204703,  33.15218486,  41.09150493,   5.17982221]),\n",
       "  'y': array([  87.21896499,  -83.95552946, -116.1625853 ,   -5.83608711,\n",
       "          -38.01286345,  -89.60306365,  113.6499193 ,   80.09036777])},\n",
       " {'marker': {'color': 9, 'colorscale': 'Viridis', 'size': 10},\n",
       "  'mode': 'markers',\n",
       "  'name': '9',\n",
       "  'text': '9',\n",
       "  'type': 'scatter',\n",
       "  'x': array([-18.0297932 ,   0.45122592,  -5.99431708, -55.98571865,\n",
       "         -26.31280831, -80.96947173,  -0.85462391, -67.71061933,\n",
       "         -65.80481702,  85.43523678, -97.3555041 , -65.96940402,  29.40213558]),\n",
       "  'y': array([  37.24370167,  -82.11557063,   73.74740599,   14.44873999,\n",
       "           68.77382943,   84.00120649,  353.84430012,   44.71669334,\n",
       "           87.41985523,   40.80041992,  -18.31497372,   78.10663682,\n",
       "           70.65877447])}]"
      ]
     },
     "execution_count": 127,
     "metadata": {},
     "output_type": "execute_result"
    }
   ],
   "source": [
    "traces"
   ]
  }
 ],
 "metadata": {
  "kernelspec": {
   "display_name": "Python [conda root]",
   "language": "python",
   "name": "conda-root-py"
  },
  "language_info": {
   "codemirror_mode": {
    "name": "ipython",
    "version": 3
   },
   "file_extension": ".py",
   "mimetype": "text/x-python",
   "name": "python",
   "nbconvert_exporter": "python",
   "pygments_lexer": "ipython3",
   "version": "3.5.3"
  }
 },
 "nbformat": 4,
 "nbformat_minor": 2
}
